{
 "cells": [
  {
   "cell_type": "markdown",
   "id": "2c6f7741-106a-4111-9535-e1dab55b71cb",
   "metadata": {},
   "source": [
    "##### Installing  libraries "
   ]
  },
  {
   "cell_type": "code",
   "execution_count": 11,
   "id": "c01a820a-498c-4bcd-969b-3305f92e2a9e",
   "metadata": {},
   "outputs": [],
   "source": [
    "# pip install yfinance\n",
    "# pip  install BeautifulSoap\n",
    "# pip install matplotlib"
   ]
  },
  {
   "cell_type": "markdown",
   "id": "771b8df4-8fad-4ab5-99c2-3d1372638a84",
   "metadata": {},
   "source": [
    "##### Importing  Libraries "
   ]
  },
  {
   "cell_type": "code",
   "execution_count": 19,
   "id": "2ff1369c-3d09-4801-b58e-151b24ef11b1",
   "metadata": {},
   "outputs": [],
   "source": [
    "import yfinance as yf\n",
    "import requests\n",
    "from bs4 import BeautifulSoup\n",
    "import matplotlib.pyplot as plt"
   ]
  },
  {
   "cell_type": "markdown",
   "id": "7a314d5a-56c1-40c0-8f4c-b1db5eaa88bb",
   "metadata": {},
   "source": [
    "##### 1 . Extracting Tesla Stock Data Using yfinance "
   ]
  },
  {
   "cell_type": "code",
   "execution_count": 8,
   "id": "cd6cbe2c-7dca-46e1-b616-f0103bc0cb0c",
   "metadata": {},
   "outputs": [],
   "source": [
    "# extracting Tesla Stock data \n",
    "tesla_stock = yf.Ticker(\"TSLA\")\n",
    "tesla_stock_data = tesla_stock.history(period=\"max\")\n"
   ]
  },
  {
   "cell_type": "code",
   "execution_count": 7,
   "id": "905523b9-f5b9-4936-8275-1794882c02fe",
   "metadata": {},
   "outputs": [
    {
     "name": "stdout",
     "output_type": "stream",
     "text": [
      "                               Open      High       Low     Close     Volume  \\\n",
      "Date                                                                           \n",
      "2010-06-29 00:00:00-04:00  1.266667  1.666667  1.169333  1.592667  281494500   \n",
      "2010-06-30 00:00:00-04:00  1.719333  2.028000  1.553333  1.588667  257806500   \n",
      "2010-07-01 00:00:00-04:00  1.666667  1.728000  1.351333  1.464000  123282000   \n",
      "2010-07-02 00:00:00-04:00  1.533333  1.540000  1.247333  1.280000   77097000   \n",
      "2010-07-06 00:00:00-04:00  1.333333  1.333333  1.055333  1.074000  103003500   \n",
      "\n",
      "                           Dividends  Stock Splits  \n",
      "Date                                                \n",
      "2010-06-29 00:00:00-04:00        0.0           0.0  \n",
      "2010-06-30 00:00:00-04:00        0.0           0.0  \n",
      "2010-07-01 00:00:00-04:00        0.0           0.0  \n",
      "2010-07-02 00:00:00-04:00        0.0           0.0  \n",
      "2010-07-06 00:00:00-04:00        0.0           0.0  \n"
     ]
    }
   ],
   "source": [
    "# Display the first few rows of the stock data\n",
    "print(tesla_stock_data.head())"
   ]
  },
  {
   "cell_type": "markdown",
   "id": "7b55a984-e195-4c8e-900c-601dbf878dd6",
   "metadata": {},
   "source": [
    "##### 2.  Extracting Tesla Revenue Data Using Web Scraping"
   ]
  },
  {
   "cell_type": "code",
   "execution_count": 12,
   "id": "2227cab8-67be-4d78-8131-1a8f39ed8bf0",
   "metadata": {},
   "outputs": [
    {
     "name": "stdout",
     "output_type": "stream",
     "text": [
      "\n",
      "\n",
      "\n",
      "\n",
      "Will be right back...\n",
      "Thank you for your patience.\n",
      "Our engineers are working quickly to resolve the issue.\n",
      "\n",
      "\n",
      "\n"
     ]
    }
   ],
   "source": [
    "# URL for Tesla revenue data (Yahoo Finance example)\n",
    "url = 'https://finance.yahoo.com/quote/TSLA/financials?p=TSLA'\n",
    "response = requests.get(url)\n",
    "soup = BeautifulSoup(response.text, 'html.parser')\n",
    "\n",
    "# Extracting revenue data from the webpage\n",
    "tables = soup.find_all('table')  \n",
    "\n",
    "# Assuming the revenue data is in the first table\n",
    "for table in tables:\n",
    "    print(table.text)  \n"
   ]
  },
  {
   "cell_type": "markdown",
   "id": "01ac1648-1e9d-4457-8ba7-036e0da7d1d4",
   "metadata": {},
   "source": [
    "##### 3. Extracting GameStop Stock Data Using yfinance"
   ]
  },
  {
   "cell_type": "code",
   "execution_count": 13,
   "id": "65384a6b-e88c-487d-a728-352fc9937b6f",
   "metadata": {},
   "outputs": [],
   "source": [
    "# Extracting GameStop stock data\n",
    "gamestop_stock = yf.Ticker(\"GME\")\n",
    "gamestop_stock_data = gamestop_stock.history(period=\"max\")"
   ]
  },
  {
   "cell_type": "code",
   "execution_count": 14,
   "id": "e5e8b9a2-cace-48f6-8166-58a81ac53289",
   "metadata": {},
   "outputs": [
    {
     "name": "stdout",
     "output_type": "stream",
     "text": [
      "                               Open      High       Low     Close    Volume  \\\n",
      "Date                                                                          \n",
      "2002-02-13 00:00:00-05:00  1.620128  1.693349  1.603295  1.691666  76216000   \n",
      "2002-02-14 00:00:00-05:00  1.712707  1.716073  1.670625  1.683250  11021600   \n",
      "2002-02-15 00:00:00-05:00  1.683250  1.687458  1.658001  1.674834   8389600   \n",
      "2002-02-19 00:00:00-05:00  1.666418  1.666418  1.578047  1.607504   7410400   \n",
      "2002-02-20 00:00:00-05:00  1.615920  1.662210  1.603296  1.662210   6892800   \n",
      "\n",
      "                           Dividends  Stock Splits  \n",
      "Date                                                \n",
      "2002-02-13 00:00:00-05:00        0.0           0.0  \n",
      "2002-02-14 00:00:00-05:00        0.0           0.0  \n",
      "2002-02-15 00:00:00-05:00        0.0           0.0  \n",
      "2002-02-19 00:00:00-05:00        0.0           0.0  \n",
      "2002-02-20 00:00:00-05:00        0.0           0.0  \n"
     ]
    }
   ],
   "source": [
    "# Display the first few rows of the stock data\n",
    "print(gamestop_stock_data.head())\n"
   ]
  },
  {
   "cell_type": "markdown",
   "id": "0dcbe036-1c37-4474-b795-3059e688f93f",
   "metadata": {},
   "source": [
    "###### 4.  Extracting GameStop Revenue Data Using Web Scraping"
   ]
  },
  {
   "cell_type": "code",
   "execution_count": 16,
   "id": "6eeb351a-b818-48e3-aaa7-3af5bacdc9c7",
   "metadata": {},
   "outputs": [],
   "source": [
    "# URL for GameStop revenue data \n",
    "url = 'https://finance.yahoo.com/quote/GME/financials?p=GME'\n",
    "response = requests.get(url)\n",
    "soup = BeautifulSoup(response.text, 'html.parser')\n",
    "\n"
   ]
  },
  {
   "cell_type": "code",
   "execution_count": 17,
   "id": "3180226a-6aec-4b94-b960-06a7b5cbb28a",
   "metadata": {},
   "outputs": [
    {
     "name": "stdout",
     "output_type": "stream",
     "text": [
      "\n",
      "\n",
      "\n",
      "\n",
      "Will be right back...\n",
      "Thank you for your patience.\n",
      "Our engineers are working quickly to resolve the issue.\n",
      "\n",
      "\n",
      "\n"
     ]
    }
   ],
   "source": [
    "# Extract revenue data from the yahoo webpage\n",
    "tables = soup.find_all('table')\n",
    "\n",
    "# Display the revenue data \n",
    "for table in tables:\n",
    "    print(table.text)"
   ]
  },
  {
   "cell_type": "markdown",
   "id": "03194832-d135-4fab-a815-e88674ec065e",
   "metadata": {},
   "source": [
    "##### 5. Tesla Stock and Revenue Dashboard"
   ]
  },
  {
   "cell_type": "code",
   "execution_count": 25,
   "id": "b06e43d7-0caf-4397-b8a2-2d6536b5b9b8",
   "metadata": {},
   "outputs": [
    {
     "data": {
      "image/png": "[encoded data removed]",
      "text/plain": [
       "<Figure size 640x480 with 1 Axes>"
      ]
     },
     "metadata": {},
     "output_type": "display_data"
    }
   ],
   "source": [
    "# Plot Tesla stock data\n",
    "tesla_stock_data['Close'].plot(title=\"Tesla Stock Price\",color='green')\n",
    "plt.show()"
   ]
  },
  {
   "cell_type": "markdown",
   "id": "201cdd82-fe41-49a8-8fd1-195626fe003c",
   "metadata": {},
   "source": [
    "###### 6. GameStop Stock and Revenue Dashboard"
   ]
  },
  {
   "cell_type": "code",
   "execution_count": 24,
   "id": "2f245240-2203-4b84-8bf0-3d513a4e8c63",
   "metadata": {},
   "outputs": [
    {
     "data": {
      "image/png": "[encoded data removed]",
      "text/plain": [
       "<Figure size 640x480 with 1 Axes>"
      ]
     },
     "metadata": {},
     "output_type": "display_data"
    }
   ],
   "source": [
    "# Plot GameStop stock data\n",
    "gamestop_stock_data['Close'].plot(title=\"GameStop Stock Price\",color='green')\n",
    "plt.show()"
   ]
  },
  {
   "cell_type": "code",
   "execution_count": null,
   "id": "c98eed56-f734-4eb2-a0d2-51a50fe230f4",
   "metadata": {},
   "outputs": [],
   "source": []
  },
  {
   "cell_type": "code",
   "execution_count": null,
   "id": "aeec3a8e-6f06-4e63-8064-8816022422ad",
   "metadata": {},
   "outputs": [],
   "source": []
  },
  {
   "cell_type": "code",
   "execution_count": null,
   "id": "117a7793-200e-4598-a1e9-808e6a1e1be5",
   "metadata": {},
   "outputs": [],
   "source": []
  },
  {
   "cell_type": "code",
   "execution_count": null,
   "id": "dd7ef592-56a2-4d44-9726-10cb06a72fb0",
   "metadata": {},
   "outputs": [],
   "source": []
  },
  {
   "cell_type": "code",
   "execution_count": null,
   "id": "18c2d51b-870e-4f93-be41-3c0926b6dee7",
   "metadata": {},
   "outputs": [],
   "source": []
  },
  {
   "cell_type": "code",
   "execution_count": null,
   "id": "7c2b9a17-bae0-4f69-a63e-3552ab833f77",
   "metadata": {},
   "outputs": [],
   "source": []
  },
  {
   "cell_type": "code",
   "execution_count": null,
   "id": "99e1e32d-06e4-4d5c-a69d-c0774521e2eb",
   "metadata": {},
   "outputs": [],
   "source": []
  },
  {
   "cell_type": "code",
   "execution_count": null,
   "id": "05779c7f-9e24-405f-8c92-b3db01629a68",
   "metadata": {},
   "outputs": [],
   "source": []
  },
  {
   "cell_type": "code",
   "execution_count": null,
   "id": "c91a7b4d-edce-42dc-874d-039fd2fdafbd",
   "metadata": {},
   "outputs": [],
   "source": []
  },
  {
   "cell_type": "code",
   "execution_count": null,
   "id": "b4bc0569-31dd-49e1-bbd2-72696fc04782",
   "metadata": {},
   "outputs": [],
   "source": []
  },
  {
   "cell_type": "code",
   "execution_count": null,
   "id": "17fffb58-26a1-4f00-90d7-e463193b6685",
   "metadata": {},
   "outputs": [],
   "source": []
  },
  {
   "cell_type": "code",
   "execution_count": null,
   "id": "35962049-b904-40c6-9465-14ca6ac996bf",
   "metadata": {},
   "outputs": [],
   "source": []
  },
  {
   "cell_type": "code",
   "execution_count": null,
   "id": "18854728-8a82-4197-bf49-922b9f72bdc9",
   "metadata": {},
   "outputs": [],
   "source": []
  },
  {
   "cell_type": "code",
   "execution_count": null,
   "id": "56005d49-a8cb-4faf-b01e-3a8632c7e9de",
   "metadata": {},
   "outputs": [],
   "source": [
    "\n"
   ]
  }
 ],
 "metadata": {
  "kernelspec": {
   "display_name": "Python 3 (ipykernel)",
   "language": "python",
   "name": "python3"
  },
  "language_info": {
   "codemirror_mode": {
    "name": "ipython",
    "version": 3
   },
   "file_extension": ".py",
   "mimetype": "text/x-python",
   "name": "python",
   "nbconvert_exporter": "python",
   "pygments_lexer": "ipython3",
   "version": "3.11.7"
  },
  "widgets": {
   "application/vnd.jupyter.widget-state+json": {
    "state": {},
    "version_major": 2,
    "version_minor": 0
   }
  }
 },
 "nbformat": 4,
 "nbformat_minor": 5
}
